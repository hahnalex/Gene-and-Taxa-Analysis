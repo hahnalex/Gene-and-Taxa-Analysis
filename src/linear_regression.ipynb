{
 "cells": [
  {
   "cell_type": "code",
   "execution_count": 71,
   "metadata": {
    "collapsed": true
   },
   "outputs": [],
   "source": [
    "import matplotlib.pyplot as plt\n",
    "import math\n",
    "import numpy as np\n",
    "import os\n",
    "import pandas as pd\n",
    "import statsmodels.formula.api as smf\n",
    "\n",
    "%matplotlib inline"
   ]
  },
  {
   "cell_type": "markdown",
   "metadata": {},
   "source": [
    "### Load Scores and Profile Sizes"
   ]
  },
  {
   "cell_type": "code",
   "execution_count": 72,
   "metadata": {
    "collapsed": true
   },
   "outputs": [],
   "source": [
    "def getScores():\n",
    "    resultDir = \"../results/\"\n",
    "    if not os.path.exists(resultDir):\n",
    "        os.makedirs(resultDir)\n",
    "    size = loadProfileSizes()"
   ]
  },
  {
   "cell_type": "code",
   "execution_count": 73,
   "metadata": {
    "collapsed": true
   },
   "outputs": [],
   "source": [
    "def loadProfileSizes():\n",
    "    profileSize = dict()\n",
    "    inFile = open(\"../data/ProfileSizes.txt\")\n",
    "\n",
    "    for line in inFile:\n",
    "        entity, size = line.strip().split(\"\\t\")\n",
    "        entity = entity.replace(\"#profile\",\"\")\n",
    "        entity = entity.replace(\"http://purl.obolibrary.org/obo/\",\"\")\n",
    "        profileSize[entity] = int(size)\n",
    "\n",
    "    inFile.close()\n",
    "    return profileSize"
   ]
  },
  {
   "cell_type": "code",
   "execution_count": 74,
   "metadata": {
    "collapsed": true
   },
   "outputs": [],
   "source": [
    "def loadProfiles():\n",
    "    inFile = open(\"../data/Scores_Sizes.txt\")\n",
    "\n",
    "    scores = []\n",
    "    geneProfileSizes = []\n",
    "    taxonProfileSizes = []\n",
    "\n",
    "    rawscores = []\n",
    "    rawGeneProfileSizes = []\n",
    "    rawTaxonProfileSizes = []\n",
    "\n",
    "    for line in inFile:\n",
    "        if \"Score\" not in line:\n",
    "            data = line.strip().split(\"\\t\")\n",
    "            score = float(data[6])\n",
    "            scores.append(score)\n",
    "            rawGeneProfileSizes.append(int(data[1]))\n",
    "            rawTaxonProfileSizes.append(int(data[4]))\n",
    "    inFile.close()\n",
    "    return scores, rawTaxonProfileSizes, rawGeneProfileSizes"
   ]
  },
  {
   "cell_type": "code",
   "execution_count": 75,
   "metadata": {
    "collapsed": true
   },
   "outputs": [],
   "source": [
    "getScores()\n",
    "scores, rawTaxonProfileSizes, rawGeneProfileSizes = loadProfiles()"
   ]
  },
  {
   "cell_type": "markdown",
   "metadata": {},
   "source": [
    "### Log Transformation\n",
    "\n",
    "Run log transformation on scores, taxon sizes, and gene sizes."
   ]
  },
  {
   "cell_type": "code",
   "execution_count": 76,
   "metadata": {
    "collapsed": true
   },
   "outputs": [],
   "source": [
    "scoresLog = list(scores)\n",
    "\n",
    "for x in range(0, len(scoresLog)):\n",
    "    if scoresLog[x] != 0:\n",
    "        scoresLog[x] = math.log(scoresLog[x])"
   ]
  },
  {
   "cell_type": "code",
   "execution_count": 77,
   "metadata": {
    "collapsed": true
   },
   "outputs": [],
   "source": [
    "taxonLog = list(rawTaxonProfileSizes)\n",
    "\n",
    "for x in range(0, len(taxonLog)):\n",
    "    if taxonLog[x] != 0:\n",
    "        taxonLog[x] = math.log(taxonLog[x])"
   ]
  },
  {
   "cell_type": "code",
   "execution_count": 78,
   "metadata": {
    "collapsed": true
   },
   "outputs": [],
   "source": [
    "geneLog = list(rawGeneProfileSizes)\n",
    "\n",
    "for x in range(0, len(geneLog)):\n",
    "    if geneLog[x] != 0:\n",
    "        geneLog[x] = math.log(geneLog[x])"
   ]
  },
  {
   "cell_type": "markdown",
   "metadata": {},
   "source": [
    "# Taxon Profile Sizes\n",
    "\n",
    "Let's load the data into a Pandas DataFrame so we can start to filter the data and create more granular plots."
   ]
  },
  {
   "cell_type": "code",
   "execution_count": 79,
   "metadata": {},
   "outputs": [
    {
     "data": {
      "text/html": [
       "<div>\n",
       "<style>\n",
       "    .dataframe thead tr:only-child th {\n",
       "        text-align: right;\n",
       "    }\n",
       "\n",
       "    .dataframe thead th {\n",
       "        text-align: left;\n",
       "    }\n",
       "\n",
       "    .dataframe tbody tr th {\n",
       "        vertical-align: top;\n",
       "    }\n",
       "</style>\n",
       "<table border=\"1\" class=\"dataframe\">\n",
       "  <thead>\n",
       "    <tr style=\"text-align: right;\">\n",
       "      <th></th>\n",
       "      <th>scores</th>\n",
       "      <th>taxon</th>\n",
       "    </tr>\n",
       "  </thead>\n",
       "  <tbody>\n",
       "    <tr>\n",
       "      <th>0</th>\n",
       "      <td>0.096137</td>\n",
       "      <td>22</td>\n",
       "    </tr>\n",
       "    <tr>\n",
       "      <th>1</th>\n",
       "      <td>0.329889</td>\n",
       "      <td>162</td>\n",
       "    </tr>\n",
       "    <tr>\n",
       "      <th>2</th>\n",
       "      <td>0.329889</td>\n",
       "      <td>157</td>\n",
       "    </tr>\n",
       "    <tr>\n",
       "      <th>3</th>\n",
       "      <td>0.379192</td>\n",
       "      <td>1029</td>\n",
       "    </tr>\n",
       "    <tr>\n",
       "      <th>4</th>\n",
       "      <td>0.065285</td>\n",
       "      <td>34</td>\n",
       "    </tr>\n",
       "  </tbody>\n",
       "</table>\n",
       "</div>"
      ],
      "text/plain": [
       "     scores  taxon\n",
       "0  0.096137     22\n",
       "1  0.329889    162\n",
       "2  0.329889    157\n",
       "3  0.379192   1029\n",
       "4  0.065285     34"
      ]
     },
     "execution_count": 79,
     "metadata": {},
     "output_type": "execute_result"
    }
   ],
   "source": [
    "taxonAndScores = pd.DataFrame(\n",
    "    {\n",
    "        'taxon': rawTaxonProfileSizes,\n",
    "        'scores': scores\n",
    "    })\n",
    "taxonAndScores.head()"
   ]
  },
  {
   "cell_type": "code",
   "execution_count": 80,
   "metadata": {},
   "outputs": [
    {
     "data": {
      "text/html": [
       "<div>\n",
       "<style>\n",
       "    .dataframe thead tr:only-child th {\n",
       "        text-align: right;\n",
       "    }\n",
       "\n",
       "    .dataframe thead th {\n",
       "        text-align: left;\n",
       "    }\n",
       "\n",
       "    .dataframe tbody tr th {\n",
       "        vertical-align: top;\n",
       "    }\n",
       "</style>\n",
       "<table border=\"1\" class=\"dataframe\">\n",
       "  <thead>\n",
       "    <tr style=\"text-align: right;\">\n",
       "      <th></th>\n",
       "      <th>scoresLog</th>\n",
       "      <th>taxon</th>\n",
       "    </tr>\n",
       "  </thead>\n",
       "  <tbody>\n",
       "    <tr>\n",
       "      <th>0</th>\n",
       "      <td>-2.341980</td>\n",
       "      <td>22</td>\n",
       "    </tr>\n",
       "    <tr>\n",
       "      <th>1</th>\n",
       "      <td>-1.108998</td>\n",
       "      <td>162</td>\n",
       "    </tr>\n",
       "    <tr>\n",
       "      <th>2</th>\n",
       "      <td>-1.108998</td>\n",
       "      <td>157</td>\n",
       "    </tr>\n",
       "    <tr>\n",
       "      <th>3</th>\n",
       "      <td>-0.969712</td>\n",
       "      <td>1029</td>\n",
       "    </tr>\n",
       "    <tr>\n",
       "      <th>4</th>\n",
       "      <td>-2.728988</td>\n",
       "      <td>34</td>\n",
       "    </tr>\n",
       "  </tbody>\n",
       "</table>\n",
       "</div>"
      ],
      "text/plain": [
       "   scoresLog  taxon\n",
       "0  -2.341980     22\n",
       "1  -1.108998    162\n",
       "2  -1.108998    157\n",
       "3  -0.969712   1029\n",
       "4  -2.728988     34"
      ]
     },
     "execution_count": 80,
     "metadata": {},
     "output_type": "execute_result"
    }
   ],
   "source": [
    "taxonAndScoresLog = pd.DataFrame(\n",
    "    {\n",
    "        'taxon': rawTaxonProfileSizes,\n",
    "        'scoresLog': scoresLog\n",
    "    })\n",
    "taxonAndScoresLog.head()"
   ]
  },
  {
   "cell_type": "code",
   "execution_count": 81,
   "metadata": {},
   "outputs": [
    {
     "data": {
      "text/html": [
       "<div>\n",
       "<style>\n",
       "    .dataframe thead tr:only-child th {\n",
       "        text-align: right;\n",
       "    }\n",
       "\n",
       "    .dataframe thead th {\n",
       "        text-align: left;\n",
       "    }\n",
       "\n",
       "    .dataframe tbody tr th {\n",
       "        vertical-align: top;\n",
       "    }\n",
       "</style>\n",
       "<table border=\"1\" class=\"dataframe\">\n",
       "  <thead>\n",
       "    <tr style=\"text-align: right;\">\n",
       "      <th></th>\n",
       "      <th>scores</th>\n",
       "      <th>taxonLog</th>\n",
       "    </tr>\n",
       "  </thead>\n",
       "  <tbody>\n",
       "    <tr>\n",
       "      <th>0</th>\n",
       "      <td>0.096137</td>\n",
       "      <td>3.091042</td>\n",
       "    </tr>\n",
       "    <tr>\n",
       "      <th>1</th>\n",
       "      <td>0.329889</td>\n",
       "      <td>5.087596</td>\n",
       "    </tr>\n",
       "    <tr>\n",
       "      <th>2</th>\n",
       "      <td>0.329889</td>\n",
       "      <td>5.056246</td>\n",
       "    </tr>\n",
       "    <tr>\n",
       "      <th>3</th>\n",
       "      <td>0.379192</td>\n",
       "      <td>6.936343</td>\n",
       "    </tr>\n",
       "    <tr>\n",
       "      <th>4</th>\n",
       "      <td>0.065285</td>\n",
       "      <td>3.526361</td>\n",
       "    </tr>\n",
       "  </tbody>\n",
       "</table>\n",
       "</div>"
      ],
      "text/plain": [
       "     scores  taxonLog\n",
       "0  0.096137  3.091042\n",
       "1  0.329889  5.087596\n",
       "2  0.329889  5.056246\n",
       "3  0.379192  6.936343\n",
       "4  0.065285  3.526361"
      ]
     },
     "execution_count": 81,
     "metadata": {},
     "output_type": "execute_result"
    }
   ],
   "source": [
    "taxonLogAndScores = pd.DataFrame(\n",
    "    {\n",
    "        'taxonLog': taxonLog,\n",
    "        'scores': scores\n",
    "    })\n",
    "taxonLogAndScores.head()"
   ]
  },
  {
   "cell_type": "code",
   "execution_count": 82,
   "metadata": {},
   "outputs": [
    {
     "data": {
      "text/html": [
       "<div>\n",
       "<style>\n",
       "    .dataframe thead tr:only-child th {\n",
       "        text-align: right;\n",
       "    }\n",
       "\n",
       "    .dataframe thead th {\n",
       "        text-align: left;\n",
       "    }\n",
       "\n",
       "    .dataframe tbody tr th {\n",
       "        vertical-align: top;\n",
       "    }\n",
       "</style>\n",
       "<table border=\"1\" class=\"dataframe\">\n",
       "  <thead>\n",
       "    <tr style=\"text-align: right;\">\n",
       "      <th></th>\n",
       "      <th>scoresLog</th>\n",
       "      <th>taxonLog</th>\n",
       "    </tr>\n",
       "  </thead>\n",
       "  <tbody>\n",
       "    <tr>\n",
       "      <th>0</th>\n",
       "      <td>-2.341980</td>\n",
       "      <td>3.091042</td>\n",
       "    </tr>\n",
       "    <tr>\n",
       "      <th>1</th>\n",
       "      <td>-1.108998</td>\n",
       "      <td>5.087596</td>\n",
       "    </tr>\n",
       "    <tr>\n",
       "      <th>2</th>\n",
       "      <td>-1.108998</td>\n",
       "      <td>5.056246</td>\n",
       "    </tr>\n",
       "    <tr>\n",
       "      <th>3</th>\n",
       "      <td>-0.969712</td>\n",
       "      <td>6.936343</td>\n",
       "    </tr>\n",
       "    <tr>\n",
       "      <th>4</th>\n",
       "      <td>-2.728988</td>\n",
       "      <td>3.526361</td>\n",
       "    </tr>\n",
       "  </tbody>\n",
       "</table>\n",
       "</div>"
      ],
      "text/plain": [
       "   scoresLog  taxonLog\n",
       "0  -2.341980  3.091042\n",
       "1  -1.108998  5.087596\n",
       "2  -1.108998  5.056246\n",
       "3  -0.969712  6.936343\n",
       "4  -2.728988  3.526361"
      ]
     },
     "execution_count": 82,
     "metadata": {},
     "output_type": "execute_result"
    }
   ],
   "source": [
    "taxonLogAndScoresLog = pd.DataFrame(\n",
    "    {\n",
    "        'taxonLog': taxonLog,\n",
    "        'scoresLog': scoresLog\n",
    "    })\n",
    "taxonLogAndScoresLog.head()"
   ]
  },
  {
   "cell_type": "code",
   "execution_count": 83,
   "metadata": {},
   "outputs": [
    {
     "data": {
      "text/html": [
       "<div>\n",
       "<style>\n",
       "    .dataframe thead tr:only-child th {\n",
       "        text-align: right;\n",
       "    }\n",
       "\n",
       "    .dataframe thead th {\n",
       "        text-align: left;\n",
       "    }\n",
       "\n",
       "    .dataframe tbody tr th {\n",
       "        vertical-align: top;\n",
       "    }\n",
       "</style>\n",
       "<table border=\"1\" class=\"dataframe\">\n",
       "  <thead>\n",
       "    <tr style=\"text-align: right;\">\n",
       "      <th></th>\n",
       "      <th>taxon</th>\n",
       "      <th>avgScores</th>\n",
       "    </tr>\n",
       "  </thead>\n",
       "  <tbody>\n",
       "    <tr>\n",
       "      <th>0</th>\n",
       "      <td>2</td>\n",
       "      <td>0.146084</td>\n",
       "    </tr>\n",
       "    <tr>\n",
       "      <th>1</th>\n",
       "      <td>3</td>\n",
       "      <td>0.169026</td>\n",
       "    </tr>\n",
       "    <tr>\n",
       "      <th>2</th>\n",
       "      <td>4</td>\n",
       "      <td>0.176314</td>\n",
       "    </tr>\n",
       "    <tr>\n",
       "      <th>3</th>\n",
       "      <td>5</td>\n",
       "      <td>0.169552</td>\n",
       "    </tr>\n",
       "    <tr>\n",
       "      <th>4</th>\n",
       "      <td>6</td>\n",
       "      <td>0.208292</td>\n",
       "    </tr>\n",
       "  </tbody>\n",
       "</table>\n",
       "</div>"
      ],
      "text/plain": [
       "   taxon  avgScores\n",
       "0      2   0.146084\n",
       "1      3   0.169026\n",
       "2      4   0.176314\n",
       "3      5   0.169552\n",
       "4      6   0.208292"
      ]
     },
     "execution_count": 83,
     "metadata": {},
     "output_type": "execute_result"
    }
   ],
   "source": [
    "taxonAndAvgScores = taxonAndScores.groupby('taxon', as_index=False)['scores'].mean()\n",
    "taxonAndAvgScores.rename(columns={'scores':'avgScores'}, inplace=True)\n",
    "taxonAndAvgScores.head()"
   ]
  },
  {
   "cell_type": "code",
   "execution_count": 84,
   "metadata": {},
   "outputs": [
    {
     "data": {
      "text/html": [
       "<div>\n",
       "<style>\n",
       "    .dataframe thead tr:only-child th {\n",
       "        text-align: right;\n",
       "    }\n",
       "\n",
       "    .dataframe thead th {\n",
       "        text-align: left;\n",
       "    }\n",
       "\n",
       "    .dataframe tbody tr th {\n",
       "        vertical-align: top;\n",
       "    }\n",
       "</style>\n",
       "<table border=\"1\" class=\"dataframe\">\n",
       "  <thead>\n",
       "    <tr style=\"text-align: right;\">\n",
       "      <th></th>\n",
       "      <th>taxon</th>\n",
       "      <th>avgScoresLog</th>\n",
       "    </tr>\n",
       "  </thead>\n",
       "  <tbody>\n",
       "    <tr>\n",
       "      <th>0</th>\n",
       "      <td>2</td>\n",
       "      <td>-2.206040</td>\n",
       "    </tr>\n",
       "    <tr>\n",
       "      <th>1</th>\n",
       "      <td>3</td>\n",
       "      <td>-1.707504</td>\n",
       "    </tr>\n",
       "    <tr>\n",
       "      <th>2</th>\n",
       "      <td>4</td>\n",
       "      <td>-1.994858</td>\n",
       "    </tr>\n",
       "    <tr>\n",
       "      <th>3</th>\n",
       "      <td>5</td>\n",
       "      <td>-2.011393</td>\n",
       "    </tr>\n",
       "    <tr>\n",
       "      <th>4</th>\n",
       "      <td>6</td>\n",
       "      <td>-1.806052</td>\n",
       "    </tr>\n",
       "  </tbody>\n",
       "</table>\n",
       "</div>"
      ],
      "text/plain": [
       "   taxon  avgScoresLog\n",
       "0      2     -2.206040\n",
       "1      3     -1.707504\n",
       "2      4     -1.994858\n",
       "3      5     -2.011393\n",
       "4      6     -1.806052"
      ]
     },
     "execution_count": 84,
     "metadata": {},
     "output_type": "execute_result"
    }
   ],
   "source": [
    "taxonAndAvgScoresLog = taxonAndScoresLog.groupby('taxon', as_index=False)['scoresLog'].mean()\n",
    "taxonAndAvgScoresLog.rename(columns={'scoresLog':'avgScoresLog'}, inplace=True)\n",
    "taxonAndAvgScoresLog.head()"
   ]
  },
  {
   "cell_type": "code",
   "execution_count": 85,
   "metadata": {},
   "outputs": [
    {
     "data": {
      "text/html": [
       "<div>\n",
       "<style>\n",
       "    .dataframe thead tr:only-child th {\n",
       "        text-align: right;\n",
       "    }\n",
       "\n",
       "    .dataframe thead th {\n",
       "        text-align: left;\n",
       "    }\n",
       "\n",
       "    .dataframe tbody tr th {\n",
       "        vertical-align: top;\n",
       "    }\n",
       "</style>\n",
       "<table border=\"1\" class=\"dataframe\">\n",
       "  <thead>\n",
       "    <tr style=\"text-align: right;\">\n",
       "      <th></th>\n",
       "      <th>taxonLog</th>\n",
       "      <th>avgScores</th>\n",
       "    </tr>\n",
       "  </thead>\n",
       "  <tbody>\n",
       "    <tr>\n",
       "      <th>0</th>\n",
       "      <td>0.693147</td>\n",
       "      <td>0.146084</td>\n",
       "    </tr>\n",
       "    <tr>\n",
       "      <th>1</th>\n",
       "      <td>1.098612</td>\n",
       "      <td>0.169026</td>\n",
       "    </tr>\n",
       "    <tr>\n",
       "      <th>2</th>\n",
       "      <td>1.386294</td>\n",
       "      <td>0.176314</td>\n",
       "    </tr>\n",
       "    <tr>\n",
       "      <th>3</th>\n",
       "      <td>1.609438</td>\n",
       "      <td>0.169552</td>\n",
       "    </tr>\n",
       "    <tr>\n",
       "      <th>4</th>\n",
       "      <td>1.791759</td>\n",
       "      <td>0.208292</td>\n",
       "    </tr>\n",
       "  </tbody>\n",
       "</table>\n",
       "</div>"
      ],
      "text/plain": [
       "   taxonLog  avgScores\n",
       "0  0.693147   0.146084\n",
       "1  1.098612   0.169026\n",
       "2  1.386294   0.176314\n",
       "3  1.609438   0.169552\n",
       "4  1.791759   0.208292"
      ]
     },
     "execution_count": 85,
     "metadata": {},
     "output_type": "execute_result"
    }
   ],
   "source": [
    "taxonLogAndAvgScores = taxonLogAndScores.groupby('taxonLog', as_index=False)['scores'].mean()\n",
    "taxonLogAndAvgScores.rename(columns={'scores':'avgScores'}, inplace=True)\n",
    "taxonLogAndAvgScores.head()"
   ]
  },
  {
   "cell_type": "code",
   "execution_count": 86,
   "metadata": {},
   "outputs": [
    {
     "data": {
      "text/html": [
       "<div>\n",
       "<style>\n",
       "    .dataframe thead tr:only-child th {\n",
       "        text-align: right;\n",
       "    }\n",
       "\n",
       "    .dataframe thead th {\n",
       "        text-align: left;\n",
       "    }\n",
       "\n",
       "    .dataframe tbody tr th {\n",
       "        vertical-align: top;\n",
       "    }\n",
       "</style>\n",
       "<table border=\"1\" class=\"dataframe\">\n",
       "  <thead>\n",
       "    <tr style=\"text-align: right;\">\n",
       "      <th></th>\n",
       "      <th>taxonLog</th>\n",
       "      <th>avgScoresLog</th>\n",
       "    </tr>\n",
       "  </thead>\n",
       "  <tbody>\n",
       "    <tr>\n",
       "      <th>0</th>\n",
       "      <td>0.693147</td>\n",
       "      <td>-2.206040</td>\n",
       "    </tr>\n",
       "    <tr>\n",
       "      <th>1</th>\n",
       "      <td>1.098612</td>\n",
       "      <td>-1.707504</td>\n",
       "    </tr>\n",
       "    <tr>\n",
       "      <th>2</th>\n",
       "      <td>1.386294</td>\n",
       "      <td>-1.994858</td>\n",
       "    </tr>\n",
       "    <tr>\n",
       "      <th>3</th>\n",
       "      <td>1.609438</td>\n",
       "      <td>-2.011393</td>\n",
       "    </tr>\n",
       "    <tr>\n",
       "      <th>4</th>\n",
       "      <td>1.791759</td>\n",
       "      <td>-1.806052</td>\n",
       "    </tr>\n",
       "  </tbody>\n",
       "</table>\n",
       "</div>"
      ],
      "text/plain": [
       "   taxonLog  avgScoresLog\n",
       "0  0.693147     -2.206040\n",
       "1  1.098612     -1.707504\n",
       "2  1.386294     -1.994858\n",
       "3  1.609438     -2.011393\n",
       "4  1.791759     -1.806052"
      ]
     },
     "execution_count": 86,
     "metadata": {},
     "output_type": "execute_result"
    }
   ],
   "source": [
    "taxonLogAndAvgScoresLog = taxonLogAndScoresLog.groupby('taxonLog', as_index=False)['scoresLog'].mean()\n",
    "taxonLogAndAvgScoresLog.rename(columns={'scoresLog':'avgScoresLog'}, inplace=True)\n",
    "taxonLogAndAvgScoresLog.head()"
   ]
  },
  {
   "cell_type": "markdown",
   "metadata": {},
   "source": [
    "## Plotting Taxon Size vs. Average Score\n",
    "\n",
    "The following are scatter plots of taxon size vs. average score. There are 4 differents plots using both the raw data, as well as the log-transformed data.\n",
    "\n",
    "### Taxon Size vs. Average Score"
   ]
  },
  {
   "cell_type": "code",
   "execution_count": 87,
   "metadata": {},
   "outputs": [
    {
     "data": {
      "text/plain": [
       "<matplotlib.text.Text at 0x22eaece10>"
      ]
     },
     "execution_count": 87,
     "metadata": {},
     "output_type": "execute_result"
    },
    {
     "data": {
      "image/png": "[encoded data removed]",
      "text/plain": [
       "<matplotlib.figure.Figure at 0x22ead8fd0>"
      ]
     },
     "metadata": {},
     "output_type": "display_data"
    }
   ],
   "source": [
    "taxonAndAvgScores.plot('taxon', 'avgScores', s=0.5, kind='scatter', title='Taxon Size vs. Average Score')\n",
    "plt.xlabel('Taxon Size')\n",
    "plt.ylabel('Average Score')"
   ]
  },
  {
   "cell_type": "markdown",
   "metadata": {},
   "source": [
    "### Taxon Size vs. Average Log(Score)"
   ]
  },
  {
   "cell_type": "code",
   "execution_count": 88,
   "metadata": {},
   "outputs": [
    {
     "data": {
      "text/plain": [
       "<matplotlib.text.Text at 0x12694a1d0>"
      ]
     },
     "execution_count": 88,
     "metadata": {},
     "output_type": "execute_result"
    },
    {
     "data": {
      "image/png": "[encoded data removed]",
      "text/plain": [
       "<matplotlib.figure.Figure at 0x226933690>"
      ]
     },
     "metadata": {},
     "output_type": "display_data"
    }
   ],
   "source": [
    "taxonAndAvgScoresLog.plot('taxon', 'avgScoresLog', s=0.5, kind='scatter', title='Taxon Size vs. Average Log(Score)')\n",
    "plt.xlabel('Taxon Size')\n",
    "plt.ylabel('Average Log(Score)')"
   ]
  },
  {
   "cell_type": "markdown",
   "metadata": {},
   "source": [
    "### Log(Taxon Size) vs. Average Score"
   ]
  },
  {
   "cell_type": "code",
   "execution_count": 89,
   "metadata": {},
   "outputs": [
    {
     "data": {
      "text/plain": [
       "<matplotlib.text.Text at 0x22695cf90>"
      ]
     },
     "execution_count": 89,
     "metadata": {},
     "output_type": "execute_result"
    },
    {
     "data": {
      "image/png": "[encoded data removed]",
      "text/plain": [
       "<matplotlib.figure.Figure at 0x226aebbd0>"
      ]
     },
     "metadata": {},
     "output_type": "display_data"
    }
   ],
   "source": [
    "taxonLogAndAvgScores.plot('taxonLog', 'avgScores', s=0.5, kind='scatter', title='Log(Taxon Size) vs. Average Score')\n",
    "plt.xlabel('Log(Taxon Size)')\n",
    "plt.ylabel('Average Score')"
   ]
  },
  {
   "cell_type": "markdown",
   "metadata": {},
   "source": [
    "### Log(Taxon Size) vs. Average Log(Score)"
   ]
  },
  {
   "cell_type": "code",
   "execution_count": 90,
   "metadata": {},
   "outputs": [
    {
     "data": {
      "text/plain": [
       "<matplotlib.text.Text at 0x12598b810>"
      ]
     },
     "execution_count": 90,
     "metadata": {},
     "output_type": "execute_result"
    },
    {
     "data": {
      "image/png": "[encoded data removed]",
      "text/plain": [
       "<matplotlib.figure.Figure at 0x226bf2990>"
      ]
     },
     "metadata": {},
     "output_type": "display_data"
    }
   ],
   "source": [
    "taxonLogAndAvgScoresLog.plot('taxonLog', 'avgScoresLog', s=0.5, kind='scatter', title='Log(Taxon Size) vs. Average Log(Score)')\n",
    "plt.xlabel('Log(Taxon Size)')\n",
    "plt.ylabel('Average Log(Score)')"
   ]
  },
  {
   "cell_type": "markdown",
   "metadata": {},
   "source": [
    "## Choosing the Sets\n",
    "\n",
    "It looks like Log(Taxon Size) vs. Average Log(Score) has the best shape. We will continue to use this set when building regressions.\n",
    "\n",
    "Also, we can try running regressions on Taxon Size vs. Average Log(Score) for small Taxa to compare results."
   ]
  },
  {
   "cell_type": "markdown",
   "metadata": {},
   "source": [
    "# Linear Regression\n",
    "\n",
    "## Small Taxon vs. Average Log(Score)"
   ]
  },
  {
   "cell_type": "code",
   "execution_count": 91,
   "metadata": {
    "collapsed": true
   },
   "outputs": [],
   "source": [
    "smallTaxon = taxonAndAvgScoresLog[taxonAndAvgScoresLog['taxon'] < 50]\n",
    "resultsSmallTaxon = smf.ols(formula='avgScoresLog ~ taxon', data=smallTaxon).fit()\n",
    "minMaxSmallTaxon = pd.DataFrame({'taxon': [smallTaxon.taxon.min(), smallTaxon.taxon.max()]})\n",
    "predsSmallTaxon = resultsSmallTaxon.predict(minMaxSmallTaxon)"
   ]
  },
  {
   "cell_type": "code",
   "execution_count": 92,
   "metadata": {},
   "outputs": [
    {
     "data": {
      "text/plain": [
       "[<matplotlib.lines.Line2D at 0x10bf96810>]"
      ]
     },
     "execution_count": 92,
     "metadata": {},
     "output_type": "execute_result"
    },
    {
     "data": {
      "image/png": "[encoded data removed]",
      "text/plain": [
       "<matplotlib.figure.Figure at 0x226b3b4d0>"
      ]
     },
     "metadata": {},
     "output_type": "display_data"
    }
   ],
   "source": [
    "smallTaxon.plot('taxon', 'avgScoresLog', kind='scatter', title='Small Taxon (<50) vs. Average Log(Score)')\n",
    "plt.xlabel('Taxon Size')\n",
    "plt.ylabel('Average Log(Score)')\n",
    "\n",
    "plt.plot(minMaxSmallTaxon, predsSmallTaxon, c='red', linewidth=2)"
   ]
  },
  {
   "cell_type": "markdown",
   "metadata": {},
   "source": [
    "### Residuals"
   ]
  },
  {
   "cell_type": "code",
   "execution_count": 93,
   "metadata": {},
   "outputs": [
    {
     "data": {
      "text/plain": [
       "<matplotlib.text.Text at 0x127aa6950>"
      ]
     },
     "execution_count": 93,
     "metadata": {},
     "output_type": "execute_result"
    },
    {
     "data": {
      "image/png": "[encoded data removed]",
      "text/plain": [
       "<matplotlib.figure.Figure at 0x102e24550>"
      ]
     },
     "metadata": {},
     "output_type": "display_data"
    }
   ],
   "source": [
    "residualsSmallTaxon = []\n",
    "actualSmallTaxon = list(smallTaxon.avgScoresLog)\n",
    "predictedSmallTaxon = resultsSmallTaxon.fittedvalues\n",
    "\n",
    "for x in range(0, len(actualSmallTaxon)):\n",
    "    actualScore = actualSmallTaxon[x]\n",
    "    predictedScore = predictedSmallTaxon[x]\n",
    "    residual = actualScore - predictedScore\n",
    "    residualsSmallTaxon.append(residual)\n",
    "    \n",
    "plt.scatter(np.array(predictedSmallTaxon), np.array(residualsSmallTaxon))\n",
    "plt.title('Residuals: Small Taxon vs. Average Log(Score)')\n",
    "plt.xlabel('Predicted')\n",
    "plt.ylabel('Residual')"
   ]
  },
  {
   "cell_type": "markdown",
   "metadata": {},
   "source": [
    "## Log(Taxon Size) vs. Average Log(Score)"
   ]
  },
  {
   "cell_type": "code",
   "execution_count": 94,
   "metadata": {
    "collapsed": true
   },
   "outputs": [],
   "source": [
    "resultsTaxonLog = smf.ols(formula='avgScoresLog ~ taxonLog', data=taxonLogAndAvgScoresLog).fit()\n",
    "minMaxTaxonLog = pd.DataFrame({'taxonLog': [taxonLogAndAvgScoresLog.taxonLog.min(), taxonLogAndAvgScoresLog.taxonLog.max()]})\n",
    "predsTaxonLog = resultsTaxonLog.predict(minMaxTaxonLog)"
   ]
  },
  {
   "cell_type": "code",
   "execution_count": 95,
   "metadata": {},
   "outputs": [
    {
     "data": {
      "text/plain": [
       "[<matplotlib.lines.Line2D at 0x2077a4450>]"
      ]
     },
     "execution_count": 95,
     "metadata": {},
     "output_type": "execute_result"
    },
    {
     "data": {
      "image/png": "[encoded data removed]",
      "text/plain": [
       "<matplotlib.figure.Figure at 0x2077a4f50>"
      ]
     },
     "metadata": {},
     "output_type": "display_data"
    }
   ],
   "source": [
    "taxonLogAndAvgScoresLog.plot('taxonLog', 'avgScoresLog', s=2, kind='scatter', title='Log(Taxon Size) vs. Average Log(Score)')\n",
    "plt.xlabel('Log(Taxon Size)')\n",
    "plt.ylabel('Average Log(Score)')\n",
    "\n",
    "plt.plot(minMaxTaxonLog, predsTaxonLog, c='red', linewidth=1.5)"
   ]
  },
  {
   "cell_type": "markdown",
   "metadata": {},
   "source": [
    "# ----- Update for Friday, March 16 -----\n",
    "\n",
    "\n",
    "## Regression Results\n",
    "\n",
    "Numerical summaries of regression results"
   ]
  },
  {
   "cell_type": "code",
   "execution_count": 96,
   "metadata": {},
   "outputs": [
    {
     "data": {
      "text/plain": [
       "Intercept   -2.009961\n",
       "taxonLog     0.225997\n",
       "dtype: float64"
      ]
     },
     "execution_count": 96,
     "metadata": {},
     "output_type": "execute_result"
    }
   ],
   "source": [
    "# print the coefficients\n",
    "resultsTaxonLog.params"
   ]
  },
  {
   "cell_type": "code",
   "execution_count": 97,
   "metadata": {},
   "outputs": [
    {
     "data": {
      "text/html": [
       "<div>\n",
       "<style>\n",
       "    .dataframe thead tr:only-child th {\n",
       "        text-align: right;\n",
       "    }\n",
       "\n",
       "    .dataframe thead th {\n",
       "        text-align: left;\n",
       "    }\n",
       "\n",
       "    .dataframe tbody tr th {\n",
       "        vertical-align: top;\n",
       "    }\n",
       "</style>\n",
       "<table border=\"1\" class=\"dataframe\">\n",
       "  <thead>\n",
       "    <tr style=\"text-align: right;\">\n",
       "      <th></th>\n",
       "      <th>0</th>\n",
       "      <th>1</th>\n",
       "    </tr>\n",
       "  </thead>\n",
       "  <tbody>\n",
       "    <tr>\n",
       "      <th>Intercept</th>\n",
       "      <td>-2.086469</td>\n",
       "      <td>-1.933453</td>\n",
       "    </tr>\n",
       "    <tr>\n",
       "      <th>taxonLog</th>\n",
       "      <td>0.210164</td>\n",
       "      <td>0.241830</td>\n",
       "    </tr>\n",
       "  </tbody>\n",
       "</table>\n",
       "</div>"
      ],
      "text/plain": [
       "                  0         1\n",
       "Intercept -2.086469 -1.933453\n",
       "taxonLog   0.210164  0.241830"
      ]
     },
     "execution_count": 97,
     "metadata": {},
     "output_type": "execute_result"
    }
   ],
   "source": [
    "# print the confidence intervals for the model coefficients\n",
    "resultsTaxonLog.conf_int()"
   ]
  },
  {
   "cell_type": "code",
   "execution_count": 98,
   "metadata": {},
   "outputs": [
    {
     "data": {
      "text/plain": [
       "Intercept    3.159441e-118\n",
       "taxonLog      1.171414e-71\n",
       "dtype: float64"
      ]
     },
     "execution_count": 98,
     "metadata": {},
     "output_type": "execute_result"
    }
   ],
   "source": [
    "# print the p-values for the model coefficients\n",
    "resultsTaxonLog.pvalues"
   ]
  },
  {
   "cell_type": "code",
   "execution_count": 99,
   "metadata": {},
   "outputs": [
    {
     "data": {
      "text/plain": [
       "0.79761766223849895"
      ]
     },
     "execution_count": 99,
     "metadata": {},
     "output_type": "execute_result"
    }
   ],
   "source": [
    "# print the r-squared value for the model\n",
    "resultsTaxonLog.rsquared"
   ]
  },
  {
   "cell_type": "code",
   "execution_count": 100,
   "metadata": {},
   "outputs": [
    {
     "data": {
      "text/html": [
       "<table class=\"simpletable\">\n",
       "<caption>OLS Regression Results</caption>\n",
       "<tr>\n",
       "  <th>Dep. Variable:</th>      <td>avgScoresLog</td>   <th>  R-squared:         </th> <td>   0.798</td>\n",
       "</tr>\n",
       "<tr>\n",
       "  <th>Model:</th>                   <td>OLS</td>       <th>  Adj. R-squared:    </th> <td>   0.797</td>\n",
       "</tr>\n",
       "<tr>\n",
       "  <th>Method:</th>             <td>Least Squares</td>  <th>  F-statistic:       </th> <td>   792.2</td>\n",
       "</tr>\n",
       "<tr>\n",
       "  <th>Date:</th>             <td>Thu, 15 Mar 2018</td> <th>  Prob (F-statistic):</th> <td>1.17e-71</td>\n",
       "</tr>\n",
       "<tr>\n",
       "  <th>Time:</th>                 <td>15:38:28</td>     <th>  Log-Likelihood:    </th> <td>  114.24</td>\n",
       "</tr>\n",
       "<tr>\n",
       "  <th>No. Observations:</th>      <td>   203</td>      <th>  AIC:               </th> <td>  -224.5</td>\n",
       "</tr>\n",
       "<tr>\n",
       "  <th>Df Residuals:</th>          <td>   201</td>      <th>  BIC:               </th> <td>  -217.8</td>\n",
       "</tr>\n",
       "<tr>\n",
       "  <th>Df Model:</th>              <td>     1</td>      <th>                     </th>     <td> </td>   \n",
       "</tr>\n",
       "<tr>\n",
       "  <th>Covariance Type:</th>      <td>nonrobust</td>    <th>                     </th>     <td> </td>   \n",
       "</tr>\n",
       "</table>\n",
       "<table class=\"simpletable\">\n",
       "<tr>\n",
       "      <td></td>         <th>coef</th>     <th>std err</th>      <th>t</th>      <th>P>|t|</th>  <th>[0.025</th>    <th>0.975]</th>  \n",
       "</tr>\n",
       "<tr>\n",
       "  <th>Intercept</th> <td>   -2.0100</td> <td>    0.039</td> <td>  -51.802</td> <td> 0.000</td> <td>   -2.086</td> <td>   -1.933</td>\n",
       "</tr>\n",
       "<tr>\n",
       "  <th>taxonLog</th>  <td>    0.2260</td> <td>    0.008</td> <td>   28.146</td> <td> 0.000</td> <td>    0.210</td> <td>    0.242</td>\n",
       "</tr>\n",
       "</table>\n",
       "<table class=\"simpletable\">\n",
       "<tr>\n",
       "  <th>Omnibus:</th>       <td>13.479</td> <th>  Durbin-Watson:     </th> <td>   1.725</td>\n",
       "</tr>\n",
       "<tr>\n",
       "  <th>Prob(Omnibus):</th> <td> 0.001</td> <th>  Jarque-Bera (JB):  </th> <td>  14.371</td>\n",
       "</tr>\n",
       "<tr>\n",
       "  <th>Skew:</th>          <td>-0.643</td> <th>  Prob(JB):          </th> <td>0.000757</td>\n",
       "</tr>\n",
       "<tr>\n",
       "  <th>Kurtosis:</th>      <td> 3.213</td> <th>  Cond. No.          </th> <td>    20.1</td>\n",
       "</tr>\n",
       "</table>"
      ],
      "text/plain": [
       "<class 'statsmodels.iolib.summary.Summary'>\n",
       "\"\"\"\n",
       "                            OLS Regression Results                            \n",
       "==============================================================================\n",
       "Dep. Variable:           avgScoresLog   R-squared:                       0.798\n",
       "Model:                            OLS   Adj. R-squared:                  0.797\n",
       "Method:                 Least Squares   F-statistic:                     792.2\n",
       "Date:                Thu, 15 Mar 2018   Prob (F-statistic):           1.17e-71\n",
       "Time:                        15:38:28   Log-Likelihood:                 114.24\n",
       "No. Observations:                 203   AIC:                            -224.5\n",
       "Df Residuals:                     201   BIC:                            -217.8\n",
       "Df Model:                           1                                         \n",
       "Covariance Type:            nonrobust                                         \n",
       "==============================================================================\n",
       "                 coef    std err          t      P>|t|      [0.025      0.975]\n",
       "------------------------------------------------------------------------------\n",
       "Intercept     -2.0100      0.039    -51.802      0.000      -2.086      -1.933\n",
       "taxonLog       0.2260      0.008     28.146      0.000       0.210       0.242\n",
       "==============================================================================\n",
       "Omnibus:                       13.479   Durbin-Watson:                   1.725\n",
       "Prob(Omnibus):                  0.001   Jarque-Bera (JB):               14.371\n",
       "Skew:                          -0.643   Prob(JB):                     0.000757\n",
       "Kurtosis:                       3.213   Cond. No.                         20.1\n",
       "==============================================================================\n",
       "\n",
       "Warnings:\n",
       "[1] Standard Errors assume that the covariance matrix of the errors is correctly specified.\n",
       "\"\"\""
      ]
     },
     "execution_count": 100,
     "metadata": {},
     "output_type": "execute_result"
    }
   ],
   "source": [
    "# print the full regression summary\n",
    "resultsTaxonLog.summary()"
   ]
  },
  {
   "cell_type": "markdown",
   "metadata": {},
   "source": [
    "# --------------------------------------------------"
   ]
  },
  {
   "cell_type": "markdown",
   "metadata": {},
   "source": [
    "### Residuals"
   ]
  },
  {
   "cell_type": "code",
   "execution_count": 135,
   "metadata": {},
   "outputs": [
    {
     "data": {
      "text/plain": [
       "<matplotlib.text.Text at 0x218458790>"
      ]
     },
     "execution_count": 135,
     "metadata": {},
     "output_type": "execute_result"
    },
    {
     "data": {
      "image/png": "[encoded data removed]",
      "text/plain": [
       "<matplotlib.figure.Figure at 0x2268bce90>"
      ]
     },
     "metadata": {},
     "output_type": "display_data"
    }
   ],
   "source": [
    "residualsTaxonLog = []\n",
    "actualTaxonLog = list(taxonLogAndAvgScoresLog.avgScoresLog)\n",
    "predictedTaxonLog = resultsTaxonLog.fittedvalues\n",
    "\n",
    "for x in range(0, len(actualTaxonLog)):\n",
    "    actualScore = actualTaxonLog[x]\n",
    "    predictedScore = predictedTaxonLog[x]\n",
    "    residual = actualScore - predictedScore\n",
    "    residualsTaxonLog.append(residual)\n",
    "    \n",
    "plt.scatter(np.array(predictedTaxonLog), np.array(residualsTaxonLog))\n",
    "plt.title('Residuals: Log(Taxon Size) vs. Average Log(Score)')\n",
    "plt.ylabel('Predicted')\n",
    "plt.xlabel('Residual')"
   ]
  },
  {
   "cell_type": "markdown",
   "metadata": {},
   "source": [
    "# Gene Profile Sizes\n",
    "\n",
    "Now let's look at gene profile sizes vs. scores."
   ]
  },
  {
   "cell_type": "code",
   "execution_count": 102,
   "metadata": {},
   "outputs": [
    {
     "data": {
      "text/html": [
       "<div>\n",
       "<style>\n",
       "    .dataframe thead tr:only-child th {\n",
       "        text-align: right;\n",
       "    }\n",
       "\n",
       "    .dataframe thead th {\n",
       "        text-align: left;\n",
       "    }\n",
       "\n",
       "    .dataframe tbody tr th {\n",
       "        vertical-align: top;\n",
       "    }\n",
       "</style>\n",
       "<table border=\"1\" class=\"dataframe\">\n",
       "  <thead>\n",
       "    <tr style=\"text-align: right;\">\n",
       "      <th></th>\n",
       "      <th>gene</th>\n",
       "      <th>scores</th>\n",
       "    </tr>\n",
       "  </thead>\n",
       "  <tbody>\n",
       "    <tr>\n",
       "      <th>0</th>\n",
       "      <td>15</td>\n",
       "      <td>0.096137</td>\n",
       "    </tr>\n",
       "    <tr>\n",
       "      <th>1</th>\n",
       "      <td>15</td>\n",
       "      <td>0.329889</td>\n",
       "    </tr>\n",
       "    <tr>\n",
       "      <th>2</th>\n",
       "      <td>15</td>\n",
       "      <td>0.329889</td>\n",
       "    </tr>\n",
       "    <tr>\n",
       "      <th>3</th>\n",
       "      <td>15</td>\n",
       "      <td>0.379192</td>\n",
       "    </tr>\n",
       "    <tr>\n",
       "      <th>4</th>\n",
       "      <td>15</td>\n",
       "      <td>0.065285</td>\n",
       "    </tr>\n",
       "  </tbody>\n",
       "</table>\n",
       "</div>"
      ],
      "text/plain": [
       "   gene    scores\n",
       "0    15  0.096137\n",
       "1    15  0.329889\n",
       "2    15  0.329889\n",
       "3    15  0.379192\n",
       "4    15  0.065285"
      ]
     },
     "execution_count": 102,
     "metadata": {},
     "output_type": "execute_result"
    }
   ],
   "source": [
    "geneAndScores = pd.DataFrame(\n",
    "    {\n",
    "        'gene': rawGeneProfileSizes,\n",
    "        'scores': scores\n",
    "    })\n",
    "geneAndScores.head()"
   ]
  },
  {
   "cell_type": "code",
   "execution_count": 103,
   "metadata": {},
   "outputs": [
    {
     "data": {
      "text/html": [
       "<div>\n",
       "<style>\n",
       "    .dataframe thead tr:only-child th {\n",
       "        text-align: right;\n",
       "    }\n",
       "\n",
       "    .dataframe thead th {\n",
       "        text-align: left;\n",
       "    }\n",
       "\n",
       "    .dataframe tbody tr th {\n",
       "        vertical-align: top;\n",
       "    }\n",
       "</style>\n",
       "<table border=\"1\" class=\"dataframe\">\n",
       "  <thead>\n",
       "    <tr style=\"text-align: right;\">\n",
       "      <th></th>\n",
       "      <th>gene</th>\n",
       "      <th>scoresLog</th>\n",
       "    </tr>\n",
       "  </thead>\n",
       "  <tbody>\n",
       "    <tr>\n",
       "      <th>0</th>\n",
       "      <td>15</td>\n",
       "      <td>-2.341980</td>\n",
       "    </tr>\n",
       "    <tr>\n",
       "      <th>1</th>\n",
       "      <td>15</td>\n",
       "      <td>-1.108998</td>\n",
       "    </tr>\n",
       "    <tr>\n",
       "      <th>2</th>\n",
       "      <td>15</td>\n",
       "      <td>-1.108998</td>\n",
       "    </tr>\n",
       "    <tr>\n",
       "      <th>3</th>\n",
       "      <td>15</td>\n",
       "      <td>-0.969712</td>\n",
       "    </tr>\n",
       "    <tr>\n",
       "      <th>4</th>\n",
       "      <td>15</td>\n",
       "      <td>-2.728988</td>\n",
       "    </tr>\n",
       "  </tbody>\n",
       "</table>\n",
       "</div>"
      ],
      "text/plain": [
       "   gene  scoresLog\n",
       "0    15  -2.341980\n",
       "1    15  -1.108998\n",
       "2    15  -1.108998\n",
       "3    15  -0.969712\n",
       "4    15  -2.728988"
      ]
     },
     "execution_count": 103,
     "metadata": {},
     "output_type": "execute_result"
    }
   ],
   "source": [
    "geneAndScoresLog = pd.DataFrame(\n",
    "    {\n",
    "        'gene': rawGeneProfileSizes,\n",
    "        'scoresLog': scoresLog\n",
    "    })\n",
    "geneAndScoresLog.head()"
   ]
  },
  {
   "cell_type": "code",
   "execution_count": 105,
   "metadata": {},
   "outputs": [
    {
     "data": {
      "text/html": [
       "<div>\n",
       "<style>\n",
       "    .dataframe thead tr:only-child th {\n",
       "        text-align: right;\n",
       "    }\n",
       "\n",
       "    .dataframe thead th {\n",
       "        text-align: left;\n",
       "    }\n",
       "\n",
       "    .dataframe tbody tr th {\n",
       "        vertical-align: top;\n",
       "    }\n",
       "</style>\n",
       "<table border=\"1\" class=\"dataframe\">\n",
       "  <thead>\n",
       "    <tr style=\"text-align: right;\">\n",
       "      <th></th>\n",
       "      <th>geneLog</th>\n",
       "      <th>scores</th>\n",
       "    </tr>\n",
       "  </thead>\n",
       "  <tbody>\n",
       "    <tr>\n",
       "      <th>0</th>\n",
       "      <td>2.70805</td>\n",
       "      <td>0.096137</td>\n",
       "    </tr>\n",
       "    <tr>\n",
       "      <th>1</th>\n",
       "      <td>2.70805</td>\n",
       "      <td>0.329889</td>\n",
       "    </tr>\n",
       "    <tr>\n",
       "      <th>2</th>\n",
       "      <td>2.70805</td>\n",
       "      <td>0.329889</td>\n",
       "    </tr>\n",
       "    <tr>\n",
       "      <th>3</th>\n",
       "      <td>2.70805</td>\n",
       "      <td>0.379192</td>\n",
       "    </tr>\n",
       "    <tr>\n",
       "      <th>4</th>\n",
       "      <td>2.70805</td>\n",
       "      <td>0.065285</td>\n",
       "    </tr>\n",
       "  </tbody>\n",
       "</table>\n",
       "</div>"
      ],
      "text/plain": [
       "   geneLog    scores\n",
       "0  2.70805  0.096137\n",
       "1  2.70805  0.329889\n",
       "2  2.70805  0.329889\n",
       "3  2.70805  0.379192\n",
       "4  2.70805  0.065285"
      ]
     },
     "execution_count": 105,
     "metadata": {},
     "output_type": "execute_result"
    }
   ],
   "source": [
    "geneLogAndScores = pd.DataFrame(\n",
    "    {\n",
    "        'geneLog': geneLog,\n",
    "        'scores': scores\n",
    "    })\n",
    "geneLogAndScores.head()"
   ]
  },
  {
   "cell_type": "code",
   "execution_count": 106,
   "metadata": {},
   "outputs": [
    {
     "data": {
      "text/html": [
       "<div>\n",
       "<style>\n",
       "    .dataframe thead tr:only-child th {\n",
       "        text-align: right;\n",
       "    }\n",
       "\n",
       "    .dataframe thead th {\n",
       "        text-align: left;\n",
       "    }\n",
       "\n",
       "    .dataframe tbody tr th {\n",
       "        vertical-align: top;\n",
       "    }\n",
       "</style>\n",
       "<table border=\"1\" class=\"dataframe\">\n",
       "  <thead>\n",
       "    <tr style=\"text-align: right;\">\n",
       "      <th></th>\n",
       "      <th>geneLog</th>\n",
       "      <th>scoresLog</th>\n",
       "    </tr>\n",
       "  </thead>\n",
       "  <tbody>\n",
       "    <tr>\n",
       "      <th>0</th>\n",
       "      <td>2.70805</td>\n",
       "      <td>-2.341980</td>\n",
       "    </tr>\n",
       "    <tr>\n",
       "      <th>1</th>\n",
       "      <td>2.70805</td>\n",
       "      <td>-1.108998</td>\n",
       "    </tr>\n",
       "    <tr>\n",
       "      <th>2</th>\n",
       "      <td>2.70805</td>\n",
       "      <td>-1.108998</td>\n",
       "    </tr>\n",
       "    <tr>\n",
       "      <th>3</th>\n",
       "      <td>2.70805</td>\n",
       "      <td>-0.969712</td>\n",
       "    </tr>\n",
       "    <tr>\n",
       "      <th>4</th>\n",
       "      <td>2.70805</td>\n",
       "      <td>-2.728988</td>\n",
       "    </tr>\n",
       "  </tbody>\n",
       "</table>\n",
       "</div>"
      ],
      "text/plain": [
       "   geneLog  scoresLog\n",
       "0  2.70805  -2.341980\n",
       "1  2.70805  -1.108998\n",
       "2  2.70805  -1.108998\n",
       "3  2.70805  -0.969712\n",
       "4  2.70805  -2.728988"
      ]
     },
     "execution_count": 106,
     "metadata": {},
     "output_type": "execute_result"
    }
   ],
   "source": [
    "geneLogAndScoresLog = pd.DataFrame(\n",
    "    {\n",
    "        'geneLog': geneLog,\n",
    "        'scoresLog': scoresLog\n",
    "    })\n",
    "geneLogAndScoresLog.head()"
   ]
  },
  {
   "cell_type": "code",
   "execution_count": 107,
   "metadata": {},
   "outputs": [
    {
     "data": {
      "text/html": [
       "<div>\n",
       "<style>\n",
       "    .dataframe thead tr:only-child th {\n",
       "        text-align: right;\n",
       "    }\n",
       "\n",
       "    .dataframe thead th {\n",
       "        text-align: left;\n",
       "    }\n",
       "\n",
       "    .dataframe tbody tr th {\n",
       "        vertical-align: top;\n",
       "    }\n",
       "</style>\n",
       "<table border=\"1\" class=\"dataframe\">\n",
       "  <thead>\n",
       "    <tr style=\"text-align: right;\">\n",
       "      <th></th>\n",
       "      <th>gene</th>\n",
       "      <th>avgScores</th>\n",
       "    </tr>\n",
       "  </thead>\n",
       "  <tbody>\n",
       "    <tr>\n",
       "      <th>0</th>\n",
       "      <td>2</td>\n",
       "      <td>0.142727</td>\n",
       "    </tr>\n",
       "    <tr>\n",
       "      <th>1</th>\n",
       "      <td>3</td>\n",
       "      <td>0.249560</td>\n",
       "    </tr>\n",
       "    <tr>\n",
       "      <th>2</th>\n",
       "      <td>4</td>\n",
       "      <td>0.237031</td>\n",
       "    </tr>\n",
       "    <tr>\n",
       "      <th>3</th>\n",
       "      <td>5</td>\n",
       "      <td>0.274980</td>\n",
       "    </tr>\n",
       "    <tr>\n",
       "      <th>4</th>\n",
       "      <td>6</td>\n",
       "      <td>0.297623</td>\n",
       "    </tr>\n",
       "  </tbody>\n",
       "</table>\n",
       "</div>"
      ],
      "text/plain": [
       "   gene  avgScores\n",
       "0     2   0.142727\n",
       "1     3   0.249560\n",
       "2     4   0.237031\n",
       "3     5   0.274980\n",
       "4     6   0.297623"
      ]
     },
     "execution_count": 107,
     "metadata": {},
     "output_type": "execute_result"
    }
   ],
   "source": [
    "geneAndAvgScores = geneAndScores.groupby('gene', as_index=False)['scores'].mean()\n",
    "geneAndAvgScores.rename(columns={'scores':'avgScores'}, inplace=True)\n",
    "geneAndAvgScores.head()"
   ]
  },
  {
   "cell_type": "code",
   "execution_count": 108,
   "metadata": {},
   "outputs": [
    {
     "data": {
      "text/html": [
       "<div>\n",
       "<style>\n",
       "    .dataframe thead tr:only-child th {\n",
       "        text-align: right;\n",
       "    }\n",
       "\n",
       "    .dataframe thead th {\n",
       "        text-align: left;\n",
       "    }\n",
       "\n",
       "    .dataframe tbody tr th {\n",
       "        vertical-align: top;\n",
       "    }\n",
       "</style>\n",
       "<table border=\"1\" class=\"dataframe\">\n",
       "  <thead>\n",
       "    <tr style=\"text-align: right;\">\n",
       "      <th></th>\n",
       "      <th>gene</th>\n",
       "      <th>avgScoresLog</th>\n",
       "    </tr>\n",
       "  </thead>\n",
       "  <tbody>\n",
       "    <tr>\n",
       "      <th>0</th>\n",
       "      <td>2</td>\n",
       "      <td>-0.823050</td>\n",
       "    </tr>\n",
       "    <tr>\n",
       "      <th>1</th>\n",
       "      <td>3</td>\n",
       "      <td>-1.521482</td>\n",
       "    </tr>\n",
       "    <tr>\n",
       "      <th>2</th>\n",
       "      <td>4</td>\n",
       "      <td>-1.677779</td>\n",
       "    </tr>\n",
       "    <tr>\n",
       "      <th>3</th>\n",
       "      <td>5</td>\n",
       "      <td>-1.660588</td>\n",
       "    </tr>\n",
       "    <tr>\n",
       "      <th>4</th>\n",
       "      <td>6</td>\n",
       "      <td>-1.698478</td>\n",
       "    </tr>\n",
       "  </tbody>\n",
       "</table>\n",
       "</div>"
      ],
      "text/plain": [
       "   gene  avgScoresLog\n",
       "0     2     -0.823050\n",
       "1     3     -1.521482\n",
       "2     4     -1.677779\n",
       "3     5     -1.660588\n",
       "4     6     -1.698478"
      ]
     },
     "execution_count": 108,
     "metadata": {},
     "output_type": "execute_result"
    }
   ],
   "source": [
    "geneAndAvgScoresLog = geneAndScoresLog.groupby('gene', as_index=False)['scoresLog'].mean()\n",
    "geneAndAvgScoresLog.rename(columns={'scoresLog':'avgScoresLog'}, inplace=True)\n",
    "geneAndAvgScoresLog.head()"
   ]
  },
  {
   "cell_type": "code",
   "execution_count": 109,
   "metadata": {},
   "outputs": [
    {
     "data": {
      "text/html": [
       "<div>\n",
       "<style>\n",
       "    .dataframe thead tr:only-child th {\n",
       "        text-align: right;\n",
       "    }\n",
       "\n",
       "    .dataframe thead th {\n",
       "        text-align: left;\n",
       "    }\n",
       "\n",
       "    .dataframe tbody tr th {\n",
       "        vertical-align: top;\n",
       "    }\n",
       "</style>\n",
       "<table border=\"1\" class=\"dataframe\">\n",
       "  <thead>\n",
       "    <tr style=\"text-align: right;\">\n",
       "      <th></th>\n",
       "      <th>geneLog</th>\n",
       "      <th>avgScores</th>\n",
       "    </tr>\n",
       "  </thead>\n",
       "  <tbody>\n",
       "    <tr>\n",
       "      <th>0</th>\n",
       "      <td>0.693147</td>\n",
       "      <td>0.142727</td>\n",
       "    </tr>\n",
       "    <tr>\n",
       "      <th>1</th>\n",
       "      <td>1.098612</td>\n",
       "      <td>0.249560</td>\n",
       "    </tr>\n",
       "    <tr>\n",
       "      <th>2</th>\n",
       "      <td>1.386294</td>\n",
       "      <td>0.237031</td>\n",
       "    </tr>\n",
       "    <tr>\n",
       "      <th>3</th>\n",
       "      <td>1.609438</td>\n",
       "      <td>0.274980</td>\n",
       "    </tr>\n",
       "    <tr>\n",
       "      <th>4</th>\n",
       "      <td>1.791759</td>\n",
       "      <td>0.297623</td>\n",
       "    </tr>\n",
       "  </tbody>\n",
       "</table>\n",
       "</div>"
      ],
      "text/plain": [
       "    geneLog  avgScores\n",
       "0  0.693147   0.142727\n",
       "1  1.098612   0.249560\n",
       "2  1.386294   0.237031\n",
       "3  1.609438   0.274980\n",
       "4  1.791759   0.297623"
      ]
     },
     "execution_count": 109,
     "metadata": {},
     "output_type": "execute_result"
    }
   ],
   "source": [
    "geneLogAndAvgScores = geneLogAndScores.groupby('geneLog', as_index=False)['scores'].mean()\n",
    "geneLogAndAvgScores.rename(columns={'scores':'avgScores'}, inplace=True)\n",
    "geneLogAndAvgScores.head()"
   ]
  },
  {
   "cell_type": "code",
   "execution_count": 110,
   "metadata": {},
   "outputs": [
    {
     "data": {
      "text/html": [
       "<div>\n",
       "<style>\n",
       "    .dataframe thead tr:only-child th {\n",
       "        text-align: right;\n",
       "    }\n",
       "\n",
       "    .dataframe thead th {\n",
       "        text-align: left;\n",
       "    }\n",
       "\n",
       "    .dataframe tbody tr th {\n",
       "        vertical-align: top;\n",
       "    }\n",
       "</style>\n",
       "<table border=\"1\" class=\"dataframe\">\n",
       "  <thead>\n",
       "    <tr style=\"text-align: right;\">\n",
       "      <th></th>\n",
       "      <th>geneLog</th>\n",
       "      <th>avgScoresLog</th>\n",
       "    </tr>\n",
       "  </thead>\n",
       "  <tbody>\n",
       "    <tr>\n",
       "      <th>0</th>\n",
       "      <td>0.693147</td>\n",
       "      <td>-0.823050</td>\n",
       "    </tr>\n",
       "    <tr>\n",
       "      <th>1</th>\n",
       "      <td>1.098612</td>\n",
       "      <td>-1.521482</td>\n",
       "    </tr>\n",
       "    <tr>\n",
       "      <th>2</th>\n",
       "      <td>1.386294</td>\n",
       "      <td>-1.677779</td>\n",
       "    </tr>\n",
       "    <tr>\n",
       "      <th>3</th>\n",
       "      <td>1.609438</td>\n",
       "      <td>-1.660588</td>\n",
       "    </tr>\n",
       "    <tr>\n",
       "      <th>4</th>\n",
       "      <td>1.791759</td>\n",
       "      <td>-1.698478</td>\n",
       "    </tr>\n",
       "  </tbody>\n",
       "</table>\n",
       "</div>"
      ],
      "text/plain": [
       "    geneLog  avgScoresLog\n",
       "0  0.693147     -0.823050\n",
       "1  1.098612     -1.521482\n",
       "2  1.386294     -1.677779\n",
       "3  1.609438     -1.660588\n",
       "4  1.791759     -1.698478"
      ]
     },
     "execution_count": 110,
     "metadata": {},
     "output_type": "execute_result"
    }
   ],
   "source": [
    "geneLogAndAvgScoresLog = geneLogAndScoresLog.groupby('geneLog', as_index=False)['scoresLog'].mean()\n",
    "geneLogAndAvgScoresLog.rename(columns={'scoresLog':'avgScoresLog'}, inplace=True)\n",
    "geneLogAndAvgScoresLog.head()"
   ]
  },
  {
   "cell_type": "markdown",
   "metadata": {},
   "source": [
    "## Plotting Gene Size vs. Average Score\n",
    "\n",
    "The following are scatter plots of gene size vs. average score. There are 4 differents plots using both the raw data, as well as the log-transformed data.\n",
    "\n",
    "### Gene Size vs. Average Score"
   ]
  },
  {
   "cell_type": "code",
   "execution_count": 111,
   "metadata": {},
   "outputs": [
    {
     "data": {
      "text/plain": [
       "<matplotlib.text.Text at 0x12698d950>"
      ]
     },
     "execution_count": 111,
     "metadata": {},
     "output_type": "execute_result"
    },
    {
     "data": {
      "image/png": "[encoded data removed]",
      "text/plain": [
       "<matplotlib.figure.Figure at 0x126991090>"
      ]
     },
     "metadata": {},
     "output_type": "display_data"
    }
   ],
   "source": [
    "geneAndAvgScores.plot('gene', 'avgScores', s=0.5, kind='scatter', title='Gene Size vs. Average Score')\n",
    "plt.xlabel('Gene Size')\n",
    "plt.ylabel('Average Score')"
   ]
  },
  {
   "cell_type": "markdown",
   "metadata": {},
   "source": [
    "### Gene Size vs. Average Log(Score)"
   ]
  },
  {
   "cell_type": "code",
   "execution_count": 112,
   "metadata": {},
   "outputs": [
    {
     "data": {
      "text/plain": [
       "<matplotlib.text.Text at 0x2341c4510>"
      ]
     },
     "execution_count": 112,
     "metadata": {},
     "output_type": "execute_result"
    },
    {
     "data": {
      "image/png": "[encoded data removed]",
      "text/plain": [
       "<matplotlib.figure.Figure at 0x22e925b10>"
      ]
     },
     "metadata": {},
     "output_type": "display_data"
    }
   ],
   "source": [
    "geneAndAvgScoresLog.plot('gene', 'avgScoresLog', s=0.5, kind='scatter', title='Gene Size vs. Average Log(Score)')\n",
    "plt.xlabel('Gene Size')\n",
    "plt.ylabel('Average Log(Score)')"
   ]
  },
  {
   "cell_type": "markdown",
   "metadata": {},
   "source": [
    "### Log(Gene Size) vs. Average Score"
   ]
  },
  {
   "cell_type": "code",
   "execution_count": 113,
   "metadata": {},
   "outputs": [
    {
     "data": {
      "text/plain": [
       "<matplotlib.text.Text at 0x2414abb50>"
      ]
     },
     "execution_count": 113,
     "metadata": {},
     "output_type": "execute_result"
    },
    {
     "data": {
      "image/png": "[encoded data removed]",
      "text/plain": [
       "<matplotlib.figure.Figure at 0x241496c10>"
      ]
     },
     "metadata": {},
     "output_type": "display_data"
    }
   ],
   "source": [
    "geneLogAndAvgScores.plot('geneLog', 'avgScores', s=0.5, kind='scatter', title='Log(Gene Size) vs. Average Score')\n",
    "plt.xlabel('Log(Gene Size)')\n",
    "plt.ylabel('Average Score')"
   ]
  },
  {
   "cell_type": "markdown",
   "metadata": {},
   "source": [
    "### Log(Gene Size) vs. Average Log(Score)"
   ]
  },
  {
   "cell_type": "code",
   "execution_count": 114,
   "metadata": {},
   "outputs": [
    {
     "data": {
      "text/plain": [
       "<matplotlib.text.Text at 0x266821e50>"
      ]
     },
     "execution_count": 114,
     "metadata": {},
     "output_type": "execute_result"
    },
    {
     "data": {
      "image/png": "[encoded data removed]",
      "text/plain": [
       "<matplotlib.figure.Figure at 0x2664d1550>"
      ]
     },
     "metadata": {},
     "output_type": "display_data"
    }
   ],
   "source": [
    "geneLogAndAvgScoresLog.plot('geneLog', 'avgScoresLog', s=0.5, kind='scatter', title='Log(Gene Size) vs. Average Log(Score)')\n",
    "plt.xlabel('Log(Gene Size)')\n",
    "plt.ylabel('Average Log(Score)')"
   ]
  },
  {
   "cell_type": "markdown",
   "metadata": {},
   "source": [
    "## Choosing the Sets\n",
    "\n",
    "It looks like Log(Gene Size) vs. Average Log(Score) has the best shape. We will use this set for the rest of our analysis + linear regressions.\n",
    "\n",
    "# Linear Regression\n",
    "\n",
    "## Small Gene vs. Average Log(Score)\n",
    "\n",
    "Remove the outlier from the plot where geneSize < 2. This single point was skewing the regression."
   ]
  },
  {
   "cell_type": "code",
   "execution_count": 115,
   "metadata": {
    "collapsed": true
   },
   "outputs": [],
   "source": [
    "smallGene = geneAndAvgScoresLog[(geneAndAvgScoresLog['gene'] > 2) & (geneAndAvgScoresLog['gene'] < 50)]\n",
    "resultsSmallGene = smf.ols(formula='avgScoresLog ~ gene', data=smallGene).fit()\n",
    "minMaxSmallGene = pd.DataFrame({'gene': [smallGene.gene.min(), smallGene.gene.max()]})\n",
    "predsSmallGene = resultsSmallGene.predict(minMaxSmallGene)"
   ]
  },
  {
   "cell_type": "code",
   "execution_count": 116,
   "metadata": {},
   "outputs": [
    {
     "data": {
      "text/plain": [
       "[<matplotlib.lines.Line2D at 0x2669573d0>]"
      ]
     },
     "execution_count": 116,
     "metadata": {},
     "output_type": "execute_result"
    },
    {
     "data": {
      "image/png": "[encoded data removed]",
      "text/plain": [
       "<matplotlib.figure.Figure at 0x266962b90>"
      ]
     },
     "metadata": {},
     "output_type": "display_data"
    }
   ],
   "source": [
    "smallGene.plot('gene', 'avgScoresLog', kind='scatter', title='Small Gene (<50) vs. Average Log(Score)')\n",
    "plt.xlabel('Gene Size')\n",
    "plt.ylabel('Average Log(Score)')\n",
    "\n",
    "plt.plot(minMaxSmallGene, predsSmallGene, c='red', linewidth=2)"
   ]
  },
  {
   "cell_type": "markdown",
   "metadata": {},
   "source": [
    "### Residuals"
   ]
  },
  {
   "cell_type": "code",
   "execution_count": 136,
   "metadata": {},
   "outputs": [
    {
     "data": {
      "text/plain": [
       "<matplotlib.text.Text at 0x266ae5ed0>"
      ]
     },
     "execution_count": 136,
     "metadata": {},
     "output_type": "execute_result"
    },
    {
     "data": {
      "image/png": "[encoded data removed]",
      "text/plain": [
       "<matplotlib.figure.Figure at 0x266ccd210>"
      ]
     },
     "metadata": {},
     "output_type": "display_data"
    }
   ],
   "source": [
    "residualsSmallGene = []\n",
    "actualSmallGene = list(smallGene.avgScoresLog)\n",
    "predictedSmallGene = resultsSmallGene.fittedvalues\n",
    "\n",
    "# For some reason, the predictedSmallGene Series started at index 1.\n",
    "# Reset the index so it starts at 0.\n",
    "predictedSmallGene.reset_index(drop=True, inplace=True)\n",
    "\n",
    "for x in range(0, len(actualSmallGene)):\n",
    "    actualScore = actualSmallGene[x]\n",
    "    predictedScore = predictedSmallGene[x]\n",
    "    residual = actualScore - predictedScore\n",
    "    residualsSmallGene.append(residual)\n",
    "    \n",
    "plt.scatter(np.array(predictedSmallGene), np.array(residualsSmallGene))\n",
    "plt.title('Residuals: Small Gene vs. Average Log(Score)')\n",
    "plt.ylabel('Predicted')\n",
    "plt.xlabel('Residual')"
   ]
  },
  {
   "cell_type": "markdown",
   "metadata": {},
   "source": [
    "## Log(Gene Size) vs. Average Log(Score)\n",
    "\n",
    "Remove the outlier from the plot where log(geneSize) < 0.7. This single point was skewing the regression."
   ]
  },
  {
   "cell_type": "code",
   "execution_count": 118,
   "metadata": {
    "collapsed": true
   },
   "outputs": [],
   "source": [
    "geneLog = geneLogAndAvgScoresLog[geneLogAndAvgScoresLog['geneLog'] > 0.7]\n",
    "resultsGeneLog = smf.ols(formula='avgScoresLog ~ geneLog', data=geneLog).fit()\n",
    "minMaxGeneLog = pd.DataFrame({'geneLog': [geneLog.geneLog.min(), geneLog.geneLog.max()]})\n",
    "predsGeneLog = resultsGeneLog.predict(minMaxGeneLog)"
   ]
  },
  {
   "cell_type": "code",
   "execution_count": 119,
   "metadata": {},
   "outputs": [
    {
     "data": {
      "text/plain": [
       "[<matplotlib.lines.Line2D at 0x266a07810>]"
      ]
     },
     "execution_count": 119,
     "metadata": {},
     "output_type": "execute_result"
    },
    {
     "data": {
      "image/png": "[encoded data removed]",
      "text/plain": [
       "<matplotlib.figure.Figure at 0x26685f890>"
      ]
     },
     "metadata": {},
     "output_type": "display_data"
    }
   ],
   "source": [
    "geneLog.plot('geneLog', 'avgScoresLog', kind='scatter', title='Log(Gene Size) vs. Average Log(Score)')\n",
    "plt.xlabel('Log(Gene Size)')\n",
    "plt.ylabel('Average Log(Score)')\n",
    "\n",
    "plt.plot(minMaxGeneLog, predsGeneLog, c='red', linewidth=2)"
   ]
  },
  {
   "cell_type": "markdown",
   "metadata": {},
   "source": [
    "# ----- Update for Friday, March 16 -----\n",
    "\n",
    "## Regression Results\n",
    "\n",
    "Numerical summaries of regression results"
   ]
  },
  {
   "cell_type": "code",
   "execution_count": 120,
   "metadata": {},
   "outputs": [
    {
     "data": {
      "text/plain": [
       "Intercept   -2.337667\n",
       "geneLog      0.396442\n",
       "dtype: float64"
      ]
     },
     "execution_count": 120,
     "metadata": {},
     "output_type": "execute_result"
    }
   ],
   "source": [
    "# print the coefficients\n",
    "resultsGeneLog.params"
   ]
  },
  {
   "cell_type": "code",
   "execution_count": 121,
   "metadata": {},
   "outputs": [
    {
     "data": {
      "text/html": [
       "<div>\n",
       "<style>\n",
       "    .dataframe thead tr:only-child th {\n",
       "        text-align: right;\n",
       "    }\n",
       "\n",
       "    .dataframe thead th {\n",
       "        text-align: left;\n",
       "    }\n",
       "\n",
       "    .dataframe tbody tr th {\n",
       "        vertical-align: top;\n",
       "    }\n",
       "</style>\n",
       "<table border=\"1\" class=\"dataframe\">\n",
       "  <thead>\n",
       "    <tr style=\"text-align: right;\">\n",
       "      <th></th>\n",
       "      <th>0</th>\n",
       "      <th>1</th>\n",
       "    </tr>\n",
       "  </thead>\n",
       "  <tbody>\n",
       "    <tr>\n",
       "      <th>Intercept</th>\n",
       "      <td>-2.453378</td>\n",
       "      <td>-2.221956</td>\n",
       "    </tr>\n",
       "    <tr>\n",
       "      <th>geneLog</th>\n",
       "      <td>0.369348</td>\n",
       "      <td>0.423536</td>\n",
       "    </tr>\n",
       "  </tbody>\n",
       "</table>\n",
       "</div>"
      ],
      "text/plain": [
       "                  0         1\n",
       "Intercept -2.453378 -2.221956\n",
       "geneLog    0.369348  0.423536"
      ]
     },
     "execution_count": 121,
     "metadata": {},
     "output_type": "execute_result"
    }
   ],
   "source": [
    "# print the confidence intervals for the model coefficients\n",
    "resultsGeneLog.conf_int()"
   ]
  },
  {
   "cell_type": "code",
   "execution_count": 122,
   "metadata": {},
   "outputs": [
    {
     "data": {
      "text/plain": [
       "Intercept    2.054273e-84\n",
       "geneLog      5.857536e-65\n",
       "dtype: float64"
      ]
     },
     "execution_count": 122,
     "metadata": {},
     "output_type": "execute_result"
    }
   ],
   "source": [
    "# print the p-values for the model coefficients\n",
    "resultsGeneLog.pvalues"
   ]
  },
  {
   "cell_type": "code",
   "execution_count": 123,
   "metadata": {},
   "outputs": [
    {
     "data": {
      "text/plain": [
       "0.84091514192313677"
      ]
     },
     "execution_count": 123,
     "metadata": {},
     "output_type": "execute_result"
    }
   ],
   "source": [
    "# print the r-squared value for the model\n",
    "resultsGeneLog.rsquared"
   ]
  },
  {
   "cell_type": "code",
   "execution_count": 124,
   "metadata": {},
   "outputs": [
    {
     "data": {
      "text/html": [
       "<table class=\"simpletable\">\n",
       "<caption>OLS Regression Results</caption>\n",
       "<tr>\n",
       "  <th>Dep. Variable:</th>      <td>avgScoresLog</td>   <th>  R-squared:         </th> <td>   0.841</td>\n",
       "</tr>\n",
       "<tr>\n",
       "  <th>Model:</th>                   <td>OLS</td>       <th>  Adj. R-squared:    </th> <td>   0.840</td>\n",
       "</tr>\n",
       "<tr>\n",
       "  <th>Method:</th>             <td>Least Squares</td>  <th>  F-statistic:       </th> <td>   835.2</td>\n",
       "</tr>\n",
       "<tr>\n",
       "  <th>Date:</th>             <td>Thu, 15 Mar 2018</td> <th>  Prob (F-statistic):</th> <td>5.86e-65</td>\n",
       "</tr>\n",
       "<tr>\n",
       "  <th>Time:</th>                 <td>15:39:33</td>     <th>  Log-Likelihood:    </th> <td>  75.425</td>\n",
       "</tr>\n",
       "<tr>\n",
       "  <th>No. Observations:</th>      <td>   160</td>      <th>  AIC:               </th> <td>  -146.8</td>\n",
       "</tr>\n",
       "<tr>\n",
       "  <th>Df Residuals:</th>          <td>   158</td>      <th>  BIC:               </th> <td>  -140.7</td>\n",
       "</tr>\n",
       "<tr>\n",
       "  <th>Df Model:</th>              <td>     1</td>      <th>                     </th>     <td> </td>   \n",
       "</tr>\n",
       "<tr>\n",
       "  <th>Covariance Type:</th>      <td>nonrobust</td>    <th>                     </th>     <td> </td>   \n",
       "</tr>\n",
       "</table>\n",
       "<table class=\"simpletable\">\n",
       "<tr>\n",
       "      <td></td>         <th>coef</th>     <th>std err</th>      <th>t</th>      <th>P>|t|</th>  <th>[0.025</th>    <th>0.975]</th>  \n",
       "</tr>\n",
       "<tr>\n",
       "  <th>Intercept</th> <td>   -2.3377</td> <td>    0.059</td> <td>  -39.902</td> <td> 0.000</td> <td>   -2.453</td> <td>   -2.222</td>\n",
       "</tr>\n",
       "<tr>\n",
       "  <th>geneLog</th>   <td>    0.3964</td> <td>    0.014</td> <td>   28.899</td> <td> 0.000</td> <td>    0.369</td> <td>    0.424</td>\n",
       "</tr>\n",
       "</table>\n",
       "<table class=\"simpletable\">\n",
       "<tr>\n",
       "  <th>Omnibus:</th>       <td>24.358</td> <th>  Durbin-Watson:     </th> <td>   1.614</td>\n",
       "</tr>\n",
       "<tr>\n",
       "  <th>Prob(Omnibus):</th> <td> 0.000</td> <th>  Jarque-Bera (JB):  </th> <td>  33.010</td>\n",
       "</tr>\n",
       "<tr>\n",
       "  <th>Skew:</th>          <td>-0.878</td> <th>  Prob(JB):          </th> <td>6.79e-08</td>\n",
       "</tr>\n",
       "<tr>\n",
       "  <th>Kurtosis:</th>      <td> 4.367</td> <th>  Cond. No.          </th> <td>    21.9</td>\n",
       "</tr>\n",
       "</table>"
      ],
      "text/plain": [
       "<class 'statsmodels.iolib.summary.Summary'>\n",
       "\"\"\"\n",
       "                            OLS Regression Results                            \n",
       "==============================================================================\n",
       "Dep. Variable:           avgScoresLog   R-squared:                       0.841\n",
       "Model:                            OLS   Adj. R-squared:                  0.840\n",
       "Method:                 Least Squares   F-statistic:                     835.2\n",
       "Date:                Thu, 15 Mar 2018   Prob (F-statistic):           5.86e-65\n",
       "Time:                        15:39:33   Log-Likelihood:                 75.425\n",
       "No. Observations:                 160   AIC:                            -146.8\n",
       "Df Residuals:                     158   BIC:                            -140.7\n",
       "Df Model:                           1                                         \n",
       "Covariance Type:            nonrobust                                         \n",
       "==============================================================================\n",
       "                 coef    std err          t      P>|t|      [0.025      0.975]\n",
       "------------------------------------------------------------------------------\n",
       "Intercept     -2.3377      0.059    -39.902      0.000      -2.453      -2.222\n",
       "geneLog        0.3964      0.014     28.899      0.000       0.369       0.424\n",
       "==============================================================================\n",
       "Omnibus:                       24.358   Durbin-Watson:                   1.614\n",
       "Prob(Omnibus):                  0.000   Jarque-Bera (JB):               33.010\n",
       "Skew:                          -0.878   Prob(JB):                     6.79e-08\n",
       "Kurtosis:                       4.367   Cond. No.                         21.9\n",
       "==============================================================================\n",
       "\n",
       "Warnings:\n",
       "[1] Standard Errors assume that the covariance matrix of the errors is correctly specified.\n",
       "\"\"\""
      ]
     },
     "execution_count": 124,
     "metadata": {},
     "output_type": "execute_result"
    }
   ],
   "source": [
    "# print the full regression summary\n",
    "resultsGeneLog.summary()"
   ]
  },
  {
   "cell_type": "markdown",
   "metadata": {},
   "source": [
    "# --------------------------------------------------"
   ]
  },
  {
   "cell_type": "markdown",
   "metadata": {
    "collapsed": true
   },
   "source": [
    "# ----- CORRECTED for Friday, March 18 ----- \n",
    "\n",
    "### Residuals"
   ]
  },
  {
   "cell_type": "code",
   "execution_count": 137,
   "metadata": {},
   "outputs": [
    {
     "data": {
      "text/plain": [
       "<matplotlib.text.Text at 0x21ab1a390>"
      ]
     },
     "execution_count": 137,
     "metadata": {},
     "output_type": "execute_result"
    },
    {
     "data": {
      "image/png": "[encoded data removed]",
      "text/plain": [
       "<matplotlib.figure.Figure at 0x125e947d0>"
      ]
     },
     "metadata": {},
     "output_type": "display_data"
    }
   ],
   "source": [
    "residualsGeneLog = []\n",
    "actualGeneLog = list(geneLog.avgScoresLog)\n",
    "predictedGeneLog = resultsGeneLog.fittedvalues\n",
    "\n",
    "# For some reason, the predictedGeneLog Series started at index 1.\n",
    "# Reset the index so it starts at 0.\n",
    "predictedGeneLog.reset_index(drop=True, inplace=True)\n",
    "\n",
    "for x in range(0, len(actualGeneLog)):\n",
    "    actualScore = actualGeneLog[x]\n",
    "    predictedScore = predictedGeneLog[x]\n",
    "    residual = actualScore - predictedScore\n",
    "    residualsGeneLog.append(residual)\n",
    "    \n",
    "plt.scatter(np.array(predictedGeneLog), np.array(residualsGeneLog))\n",
    "plt.title('Residuals: Log(Gene Size) vs. Average Log(Score)')\n",
    "plt.ylabel('Predicted')\n",
    "plt.xlabel('Residual')"
   ]
  },
  {
   "cell_type": "markdown",
   "metadata": {},
   "source": [
    "# --------------------------------------------------"
   ]
  },
  {
   "cell_type": "markdown",
   "metadata": {},
   "source": [
    "# Multiple Linear Regression\n",
    "\n",
    "Now we'll try a multiple linear regression using Log(Gene Size) and Log(Taxon Size) as predictor variables and Score as the response variable."
   ]
  },
  {
   "cell_type": "code",
   "execution_count": 126,
   "metadata": {},
   "outputs": [
    {
     "data": {
      "text/html": [
       "<div>\n",
       "<style>\n",
       "    .dataframe thead tr:only-child th {\n",
       "        text-align: right;\n",
       "    }\n",
       "\n",
       "    .dataframe thead th {\n",
       "        text-align: left;\n",
       "    }\n",
       "\n",
       "    .dataframe tbody tr th {\n",
       "        vertical-align: top;\n",
       "    }\n",
       "</style>\n",
       "<table border=\"1\" class=\"dataframe\">\n",
       "  <thead>\n",
       "    <tr style=\"text-align: right;\">\n",
       "      <th></th>\n",
       "      <th>geneLog</th>\n",
       "      <th>scores</th>\n",
       "      <th>taxonLog</th>\n",
       "    </tr>\n",
       "  </thead>\n",
       "  <tbody>\n",
       "    <tr>\n",
       "      <th>0</th>\n",
       "      <td>2.70805</td>\n",
       "      <td>0.096137</td>\n",
       "      <td>3.091042</td>\n",
       "    </tr>\n",
       "    <tr>\n",
       "      <th>1</th>\n",
       "      <td>2.70805</td>\n",
       "      <td>0.329889</td>\n",
       "      <td>5.087596</td>\n",
       "    </tr>\n",
       "    <tr>\n",
       "      <th>2</th>\n",
       "      <td>2.70805</td>\n",
       "      <td>0.329889</td>\n",
       "      <td>5.056246</td>\n",
       "    </tr>\n",
       "    <tr>\n",
       "      <th>3</th>\n",
       "      <td>2.70805</td>\n",
       "      <td>0.379192</td>\n",
       "      <td>6.936343</td>\n",
       "    </tr>\n",
       "    <tr>\n",
       "      <th>4</th>\n",
       "      <td>2.70805</td>\n",
       "      <td>0.065285</td>\n",
       "      <td>3.526361</td>\n",
       "    </tr>\n",
       "  </tbody>\n",
       "</table>\n",
       "</div>"
      ],
      "text/plain": [
       "   geneLog    scores  taxonLog\n",
       "0  2.70805  0.096137  3.091042\n",
       "1  2.70805  0.329889  5.087596\n",
       "2  2.70805  0.329889  5.056246\n",
       "3  2.70805  0.379192  6.936343\n",
       "4  2.70805  0.065285  3.526361"
      ]
     },
     "execution_count": 126,
     "metadata": {},
     "output_type": "execute_result"
    }
   ],
   "source": [
    "colsToUse = taxonLogAndScores.columns.difference(geneLogAndScores.columns)\n",
    "colsToUse\n",
    "\n",
    "taxonAndGene = pd.merge(geneLogAndScores, taxonLogAndScores[colsToUse], left_index=True, right_index=True, how='outer')\n",
    "taxonAndGene.head()"
   ]
  },
  {
   "cell_type": "code",
   "execution_count": 127,
   "metadata": {},
   "outputs": [
    {
     "data": {
      "text/plain": [
       "Intercept   -0.204638\n",
       "taxonLog     0.080568\n",
       "geneLog      0.126666\n",
       "dtype: float64"
      ]
     },
     "execution_count": 127,
     "metadata": {},
     "output_type": "execute_result"
    }
   ],
   "source": [
    "resultsTaxonLogGeneLog = smf.ols(formula='scores ~ taxonLog + geneLog', data=taxonAndGene).fit()\n",
    "resultsTaxonLogGeneLog.params"
   ]
  },
  {
   "cell_type": "code",
   "execution_count": 128,
   "metadata": {
    "scrolled": false
   },
   "outputs": [
    {
     "data": {
      "text/html": [
       "<table class=\"simpletable\">\n",
       "<caption>OLS Regression Results</caption>\n",
       "<tr>\n",
       "  <th>Dep. Variable:</th>         <td>scores</td>      <th>  R-squared:         </th>  <td>   0.274</td>  \n",
       "</tr>\n",
       "<tr>\n",
       "  <th>Model:</th>                   <td>OLS</td>       <th>  Adj. R-squared:    </th>  <td>   0.274</td>  \n",
       "</tr>\n",
       "<tr>\n",
       "  <th>Method:</th>             <td>Least Squares</td>  <th>  F-statistic:       </th>  <td>1.911e+06</td> \n",
       "</tr>\n",
       "<tr>\n",
       "  <th>Date:</th>             <td>Thu, 15 Mar 2018</td> <th>  Prob (F-statistic):</th>   <td>  0.00</td>   \n",
       "</tr>\n",
       "<tr>\n",
       "  <th>Time:</th>                 <td>15:39:56</td>     <th>  Log-Likelihood:    </th> <td>-1.8600e+06</td>\n",
       "</tr>\n",
       "<tr>\n",
       "  <th>No. Observations:</th>     <td>10104132</td>     <th>  AIC:               </th>  <td>3.720e+06</td> \n",
       "</tr>\n",
       "<tr>\n",
       "  <th>Df Residuals:</th>         <td>10104129</td>     <th>  BIC:               </th>  <td>3.720e+06</td> \n",
       "</tr>\n",
       "<tr>\n",
       "  <th>Df Model:</th>              <td>     2</td>      <th>                     </th>      <td> </td>     \n",
       "</tr>\n",
       "<tr>\n",
       "  <th>Covariance Type:</th>      <td>nonrobust</td>    <th>                     </th>      <td> </td>     \n",
       "</tr>\n",
       "</table>\n",
       "<table class=\"simpletable\">\n",
       "<tr>\n",
       "      <td></td>         <th>coef</th>     <th>std err</th>      <th>t</th>      <th>P>|t|</th>  <th>[0.025</th>    <th>0.975]</th>  \n",
       "</tr>\n",
       "<tr>\n",
       "  <th>Intercept</th> <td>   -0.2046</td> <td>    0.000</td> <td> -691.389</td> <td> 0.000</td> <td>   -0.205</td> <td>   -0.204</td>\n",
       "</tr>\n",
       "<tr>\n",
       "  <th>taxonLog</th>  <td>    0.0806</td> <td> 6.08e-05</td> <td> 1324.357</td> <td> 0.000</td> <td>    0.080</td> <td>    0.081</td>\n",
       "</tr>\n",
       "<tr>\n",
       "  <th>geneLog</th>   <td>    0.1267</td> <td> 8.81e-05</td> <td> 1437.776</td> <td> 0.000</td> <td>    0.126</td> <td>    0.127</td>\n",
       "</tr>\n",
       "</table>\n",
       "<table class=\"simpletable\">\n",
       "<tr>\n",
       "  <th>Omnibus:</th>       <td>3946067.015</td> <th>  Durbin-Watson:     </th>   <td>   0.918</td>  \n",
       "</tr>\n",
       "<tr>\n",
       "  <th>Prob(Omnibus):</th>   <td> 0.000</td>    <th>  Jarque-Bera (JB):  </th> <td>29355921.343</td>\n",
       "</tr>\n",
       "<tr>\n",
       "  <th>Skew:</th>            <td> 1.700</td>    <th>  Prob(JB):          </th>   <td>    0.00</td>  \n",
       "</tr>\n",
       "<tr>\n",
       "  <th>Kurtosis:</th>        <td>10.627</td>    <th>  Cond. No.          </th>   <td>    14.5</td>  \n",
       "</tr>\n",
       "</table>"
      ],
      "text/plain": [
       "<class 'statsmodels.iolib.summary.Summary'>\n",
       "\"\"\"\n",
       "                            OLS Regression Results                            \n",
       "==============================================================================\n",
       "Dep. Variable:                 scores   R-squared:                       0.274\n",
       "Model:                            OLS   Adj. R-squared:                  0.274\n",
       "Method:                 Least Squares   F-statistic:                 1.911e+06\n",
       "Date:                Thu, 15 Mar 2018   Prob (F-statistic):               0.00\n",
       "Time:                        15:39:56   Log-Likelihood:            -1.8600e+06\n",
       "No. Observations:            10104132   AIC:                         3.720e+06\n",
       "Df Residuals:                10104129   BIC:                         3.720e+06\n",
       "Df Model:                           2                                         \n",
       "Covariance Type:            nonrobust                                         \n",
       "==============================================================================\n",
       "                 coef    std err          t      P>|t|      [0.025      0.975]\n",
       "------------------------------------------------------------------------------\n",
       "Intercept     -0.2046      0.000   -691.389      0.000      -0.205      -0.204\n",
       "taxonLog       0.0806   6.08e-05   1324.357      0.000       0.080       0.081\n",
       "geneLog        0.1267   8.81e-05   1437.776      0.000       0.126       0.127\n",
       "==============================================================================\n",
       "Omnibus:                  3946067.015   Durbin-Watson:                   0.918\n",
       "Prob(Omnibus):                  0.000   Jarque-Bera (JB):         29355921.343\n",
       "Skew:                           1.700   Prob(JB):                         0.00\n",
       "Kurtosis:                      10.627   Cond. No.                         14.5\n",
       "==============================================================================\n",
       "\n",
       "Warnings:\n",
       "[1] Standard Errors assume that the covariance matrix of the errors is correctly specified.\n",
       "\"\"\""
      ]
     },
     "execution_count": 128,
     "metadata": {},
     "output_type": "execute_result"
    }
   ],
   "source": [
    "resultsTaxonLogGeneLog.summary()"
   ]
  },
  {
   "cell_type": "markdown",
   "metadata": {},
   "source": [
    "# ----- Update for Friday, March 16 -----\n",
    "\n",
    "### 3 Residual Plots:\n",
    "- geneLog vs residuals\n",
    "- taxonLog vs residuals\n",
    "- predicted vs residuals"
   ]
  },
  {
   "cell_type": "code",
   "execution_count": 140,
   "metadata": {},
   "outputs": [
    {
     "data": {
      "text/plain": [
       "<matplotlib.text.Text at 0x21aaf3d90>"
      ]
     },
     "execution_count": 140,
     "metadata": {},
     "output_type": "execute_result"
    },
    {
     "data": {
      "image/png": "[encoded data removed]",
      "text/plain": [
       "<matplotlib.figure.Figure at 0x22eaafc50>"
      ]
     },
     "metadata": {},
     "output_type": "display_data"
    }
   ],
   "source": [
    "residualsTaxonLogGeneLog = []\n",
    "actualTaxonLogGeneLog = list(taxonAndGene.scores)\n",
    "predictedTaxonLogGeneLog = resultsTaxonLogGeneLog.fittedvalues\n",
    "\n",
    "for x in range(0, len(actualTaxonLogGeneLog)):\n",
    "    actualScore = actualTaxonLogGeneLog[x]\n",
    "    predictedScore = predictedTaxonLogGeneLog[x]\n",
    "    residual = actualScore - predictedScore\n",
    "    residualsTaxonLogGeneLog.append(residual)\n",
    "    \n",
    "plt.scatter(np.array(predictedTaxonLogGeneLog), np.array(residualsTaxonLogGeneLog))\n",
    "plt.title('Residuals: Log(Taxon Size) + Log(Gene Size) vs. Score (Multiple Regression)')\n",
    "plt.ylabel('Predicted')\n",
    "plt.xlabel('Residual')"
   ]
  },
  {
   "cell_type": "code",
   "execution_count": 141,
   "metadata": {},
   "outputs": [
    {
     "data": {
      "text/plain": [
       "<matplotlib.text.Text at 0x24aeafa90>"
      ]
     },
     "execution_count": 141,
     "metadata": {},
     "output_type": "execute_result"
    },
    {
     "data": {
      "image/png": "[encoded data removed]",
      "text/plain": [
       "<matplotlib.figure.Figure at 0x1269de350>"
      ]
     },
     "metadata": {},
     "output_type": "display_data"
    }
   ],
   "source": [
    "plt.scatter(np.array(taxonAndGene.geneLog), np.array(residualsTaxonLogGeneLog))\n",
    "plt.title('Log(Gene Size) vs. Residuals')\n",
    "plt.ylabel('Gene Size')\n",
    "plt.xlabel('Residual')"
   ]
  },
  {
   "cell_type": "code",
   "execution_count": 142,
   "metadata": {},
   "outputs": [
    {
     "data": {
      "text/plain": [
       "<matplotlib.text.Text at 0x13ca9f610>"
      ]
     },
     "execution_count": 142,
     "metadata": {},
     "output_type": "execute_result"
    },
    {
     "data": {
      "image/png": "[encoded data removed]",
      "text/plain": [
       "<matplotlib.figure.Figure at 0x126bfdfd0>"
      ]
     },
     "metadata": {},
     "output_type": "display_data"
    }
   ],
   "source": [
    "plt.scatter(np.array(taxonAndGene.taxonLog), np.array(residualsTaxonLogGeneLog))\n",
    "plt.title('Log(Taxon Size) vs. Residuals')\n",
    "plt.ylabel('Taxon Size')\n",
    "plt.ylabel('Residual')"
   ]
  },
  {
   "cell_type": "markdown",
   "metadata": {},
   "source": [
    "# ----------------------------------------"
   ]
  },
  {
   "cell_type": "markdown",
   "metadata": {
    "collapsed": true
   },
   "source": [
    "# @TODO\n",
    "\n",
    "### Add new multiple regression: geneLog and taxonLog vs. average score of combination\n",
    "### Add regression table (r-squared)\n",
    "### Add 3 residual plots:\n",
    "- geneLog vs residuals\n",
    "- taxonLog vs residuals\n",
    "- predicated vs residuals"
   ]
  },
  {
   "cell_type": "code",
   "execution_count": null,
   "metadata": {
    "collapsed": true
   },
   "outputs": [],
   "source": []
  }
 ],
 "metadata": {
  "kernelspec": {
   "display_name": "Python 2",
   "language": "python",
   "name": "python2"
  },
  "language_info": {
   "codemirror_mode": {
    "name": "ipython",
    "version": 2
   },
   "file_extension": ".py",
   "mimetype": "text/x-python",
   "name": "python",
   "nbconvert_exporter": "python",
   "pygments_lexer": "ipython2",
   "version": "2.7.13"
  }
 },
 "nbformat": 4,
 "nbformat_minor": 2
}
